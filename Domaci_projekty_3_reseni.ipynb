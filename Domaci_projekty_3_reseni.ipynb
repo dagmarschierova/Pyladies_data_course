{
 "cells": [
  {
   "cell_type": "markdown",
   "metadata": {},
   "source": [
    "## Načtení knihoven\n",
    "\n",
    "Budeme používat samozřejmě `pandas`, pro vizualizaci pak [`matplotlib`](https://matplotlib.org/) a [`seaborn`](https://seaborn.pydata.org/)."
   ]
  },
  {
   "cell_type": "code",
   "execution_count": 1,
   "metadata": {},
   "outputs": [],
   "source": [
    "%matplotlib inline"
   ]
  },
  {
   "cell_type": "code",
   "execution_count": 2,
   "metadata": {},
   "outputs": [],
   "source": [
    "import pandas as pd\n",
    "import numpy as np"
   ]
  },
  {
   "cell_type": "code",
   "execution_count": 3,
   "metadata": {},
   "outputs": [],
   "source": [
    "import seaborn as sns\n",
    "import matplotlib.pyplot as plt"
   ]
  },
  {
   "cell_type": "code",
   "execution_count": 50,
   "metadata": {},
   "outputs": [],
   "source": [
    "def extract_and_clean_chmi_excel_sheet(excel_data, sheet_name):\n",
    "    \"\"\"Parse ČHMÚ historical meteo excel data\"\"\"\n",
    "    # načti list z excel souboru a převeď na tidy data formát\n",
    "    data_tidy = (\n",
    "        excel_data.parse(sheet_name, skiprows=3)\n",
    "        .melt(id_vars=[\"rok\", \"měsíc\"], var_name=\"den\", value_name=sheet_name)\n",
    "        .dropna()\n",
    "    )\n",
    "    # vytvoř časovou řadu datumů\n",
    "    datum = pd.to_datetime(\n",
    "        data_tidy[[\"rok\", \"měsíc\", \"den\"]].rename(\n",
    "            columns={\"rok\": \"year\", \"měsíc\": \"month\", \"den\": \"day\"}\n",
    "        )\n",
    "    )\n",
    "    # přidej sloupec datum jako index a odstraň den, měsíc, rok a vrať setříděný výsledek\n",
    "    return (\n",
    "        data_tidy.assign(datum=datum)\n",
    "        .set_index(\"datum\")\n",
    "        .drop(columns=[\"rok\", \"měsíc\", \"den\"])\n",
    "        .sort_index()\n",
    "    )"
   ]
  },
  {
   "cell_type": "code",
   "execution_count": 5,
   "metadata": {},
   "outputs": [],
   "source": [
    "# otevři Excel soubor\n",
    "excel_data_ruzyne = pd.ExcelFile(\"P1PRUZ01.xls\")\n",
    "# načti všechny listy kromě prvního\n",
    "extracted_sheets = (\n",
    "    extract_and_clean_chmi_excel_sheet(excel_data_ruzyne, sheet_name)\n",
    "    for sheet_name in excel_data_ruzyne.sheet_names[1:]\n",
    ")\n",
    "# spoj všechny listy do jednoho DataFrame\n",
    "ruzyne_tidy = pd.concat(extracted_sheets, axis=1)"
   ]
  },
  {
   "cell_type": "markdown",
   "metadata": {},
   "source": [
    "# Úkoly"
   ]
  },
  {
   "cell_type": "markdown",
   "metadata": {},
   "source": [
    "Načtení dat z Lysé Hory"
   ]
  },
  {
   "cell_type": "code",
   "execution_count": 6,
   "metadata": {},
   "outputs": [],
   "source": [
    "LYSA_DATA_FILENAME = \"O1LYSA01.xls\"\n",
    "\n",
    "excel_data_lysa = pd.ExcelFile(LYSA_DATA_FILENAME)\n",
    "extracted_sheets_lysa = (\n",
    "    extract_and_clean_chmi_excel_sheet(excel_data_lysa,sheet_name)\n",
    "    for sheet_name in excel_data_lysa.sheet_names[1:]\n",
    ")\n",
    "\n",
    "lysahora_tidy = pd.concat(extracted_sheets_lysa, axis=1)"
   ]
  },
  {
   "cell_type": "markdown",
   "metadata": {},
   "source": [
    "0. Pomocí grafu porovnej vývoj ročního úhrnu srážek v jednotlivých stanicích."
   ]
  },
  {
   "cell_type": "code",
   "execution_count": 52,
   "metadata": {},
   "outputs": [
    {
     "data": {
      "image/png": "[encoded data removed]",
      "text/plain": [
       "<Figure size 432x288 with 1 Axes>"
      ]
     },
     "metadata": {
      "needs_background": "light"
     },
     "output_type": "display_data"
    }
   ],
   "source": [
    "srazky = pd.DataFrame(\n",
    "    {\"Ruzyně\": ruzyne_tidy[\"úhrn srážek\"], \"Lysá Hora\": lysahora_tidy[\"úhrn srážek\"]}\n",
    ")\n",
    "srazky.resample(\"1Y\").sum().plot();"
   ]
  },
  {
   "cell_type": "markdown",
   "metadata": {},
   "source": [
    "1. Zjisti, ve které z těchto stanic byl nejteplejší den v roce 2010 a který to byl."
   ]
  },
  {
   "cell_type": "code",
   "execution_count": 11,
   "metadata": {},
   "outputs": [],
   "source": [
    "# využijeme tidy data :)\n",
    "meteodata_tidy = pd.concat((\n",
    "    ruzyne_tidy.assign(stanice=\"Ruzyně\"),\n",
    "    lysahora_tidy.assign(stanice=\"Lysá Hora\"),\n",
    "# reset index není úplně nutný, ale časový index už by nebyl teď unikátní\n",
    "# mohli bychom to řešit i multiindexem\n",
    ")).reset_index()"
   ]
  },
  {
   "cell_type": "code",
   "execution_count": 12,
   "metadata": {},
   "outputs": [
    {
     "data": {
      "text/html": [
       "<div>\n",
       "<style scoped>\n",
       "    .dataframe tbody tr th:only-of-type {\n",
       "        vertical-align: middle;\n",
       "    }\n",
       "\n",
       "    .dataframe tbody tr th {\n",
       "        vertical-align: top;\n",
       "    }\n",
       "\n",
       "    .dataframe thead th {\n",
       "        text-align: right;\n",
       "    }\n",
       "</style>\n",
       "<table border=\"1\" class=\"dataframe\">\n",
       "  <thead>\n",
       "    <tr style=\"text-align: right;\">\n",
       "      <th></th>\n",
       "      <th>datum</th>\n",
       "      <th>stanice</th>\n",
       "      <th>teplota maximální</th>\n",
       "    </tr>\n",
       "  </thead>\n",
       "  <tbody>\n",
       "    <tr>\n",
       "      <th>18093</th>\n",
       "      <td>2010-07-16</td>\n",
       "      <td>Ruzyně</td>\n",
       "      <td>34.6</td>\n",
       "    </tr>\n",
       "  </tbody>\n",
       "</table>\n",
       "</div>"
      ],
      "text/plain": [
       "           datum stanice  teplota maximální\n",
       "18093 2010-07-16  Ruzyně               34.6"
      ]
     },
     "execution_count": 12,
     "metadata": {},
     "output_type": "execute_result"
    }
   ],
   "source": [
    "meteodata_tidy_2010 = meteodata_tidy.loc[meteodata_tidy[\"datum\"].dt.year == 2010]\n",
    "meteodata_tidy_2010[[\"datum\", \"stanice\", \"teplota maximální\"]].loc[\n",
    "    meteodata_tidy_2010[\"teplota maximální\"]\n",
    "    == meteodata_tidy_2010[\"teplota maximální\"].max()\n",
    "]"
   ]
  },
  {
   "cell_type": "markdown",
   "metadata": {},
   "source": [
    "2. Zjisti, kde bylo (v průměru) nejteplejších 90 % dní v roce 2018 a kde nejstudenějších 10 %."
   ]
  },
  {
   "cell_type": "code",
   "execution_count": 13,
   "metadata": {},
   "outputs": [
    {
     "data": {
      "text/plain": [
       "{'Ruzyně': 10.033592804922948, 'Lysá Hora': 4.678027368964628}"
      ]
     },
     "execution_count": 13,
     "metadata": {},
     "output_type": "execute_result"
    }
   ],
   "source": [
    "# nejteplejší data vybereme pomocí 10 % kvantilu\n",
    "\n",
    "nejteplejsi_90 = {\n",
    "    \"Ruzyně\": ruzyne_tidy.loc[\n",
    "        ruzyne_tidy[\"teplota průměrná\"] > ruzyne_tidy[\"teplota průměrná\"].quantile(0.1),\n",
    "        \"teplota průměrná\",\n",
    "    ].mean(),\n",
    "    \"Lysá Hora\": lysahora_tidy.loc[\n",
    "        lysahora_tidy[\"teplota průměrná\"] > lysahora_tidy[\"teplota průměrná\"].quantile(0.1),\n",
    "        \"teplota průměrná\",\n",
    "    ].mean(),\n",
    "}\n",
    "nejteplejsi_90"
   ]
  },
  {
   "cell_type": "code",
   "execution_count": 15,
   "metadata": {},
   "outputs": [
    {
     "data": {
      "text/plain": [
       "{'Ruzyně': -5.827113840340104, 'Lysá Hora': -10.48576112412178}"
      ]
     },
     "execution_count": 15,
     "metadata": {},
     "output_type": "execute_result"
    }
   ],
   "source": [
    "# nejstudenější data vybereme také pomocí 10 % kvantilu\n",
    "\n",
    "nejstudenejsi_10 = {\n",
    "    \"Ruzyně\": ruzyne_tidy.loc[\n",
    "        ruzyne_tidy[\"teplota průměrná\"] < ruzyne_tidy[\"teplota průměrná\"].quantile(0.1),\n",
    "        \"teplota průměrná\",\n",
    "    ].mean(),\n",
    "    \"Lysá Hora\": lysahora_tidy.loc[\n",
    "        lysahora_tidy[\"teplota průměrná\"] < lysahora_tidy[\"teplota průměrná\"].quantile(0.1),\n",
    "        \"teplota průměrná\",\n",
    "    ].mean(),\n",
    "}\n",
    "nejstudenejsi_10"
   ]
  },
  {
   "cell_type": "markdown",
   "metadata": {},
   "source": [
    "3. Porovnej průměrný denní svit v 90. letech (1990 - 1999) v Praze a na Lysé Hoře."
   ]
  },
  {
   "cell_type": "code",
   "execution_count": 17,
   "metadata": {},
   "outputs": [
    {
     "name": "stdout",
     "output_type": "stream",
     "text": [
      "Průměný sluneční svit v Ruzyně: 5.53\n",
      "Průměný sluneční svit v Lysá Hora: 4.35\n"
     ]
    }
   ],
   "source": [
    "meteodata_tidy_90s = meteodata_tidy.loc[\n",
    "    (meteodata_tidy[\"datum\"].dt.year >= 1990)\n",
    "    & (meteodata_tidy[\"datum\"].dt.year <= 1990)\n",
    "]\n",
    "\n",
    "for stanice in meteodata_tidy[\"stanice\"].unique():\n",
    "    sunshine = meteodata_tidy_90s.loc[\n",
    "        meteodata_tidy[\"stanice\"] == stanice, \"sluneční svit\"\n",
    "    ].mean()\n",
    "    print(f\"Průměný sluneční svit v {stanice}: {sunshine:.2f}\")"
   ]
  },
  {
   "cell_type": "markdown",
   "metadata": {},
   "source": [
    "4. Načti data z https://data4pydata.s3-eu-west-1.amazonaws.com/pyladies/P1PRUZ01schibami.xls, kde jsou chybějící data označena jako `#CHYBA MĚŘENÍ`."
   ]
  },
  {
   "cell_type": "code",
   "execution_count": 85,
   "metadata": {},
   "outputs": [],
   "source": [
    "CHYBA_DATA_FILENAME = \"P1PRUZ01schibami.xls\"\n",
    "excel_data_schibami = pd.ExcelFile(CHYBA_DATA_FILENAME)\n",
    "\n",
    "\n",
    "def extract_and_clean_chmi_excel_sheet_schibami(excel_data, sheet_name):\n",
    "    \"\"\"Parse ČHMÚ historical meteo excel data\"\"\"\n",
    "    # načti list z excel souboru a převeď na tidy data formát\n",
    "    data_tidy = (\n",
    "        # přidáme na_values a keep_default_na=True\n",
    "        excel_data.parse(sheet_name, skiprows=3, na_values=[\"#CHYBA MĚŘENÍ\"])  # , keep_default_na=True)\n",
    "        .melt(id_vars=[\"rok\", \"měsíc\"], var_name=\"den\", value_name=sheet_name)\n",
    "    )\n",
    "    # vytvoř časovou řadu datumů\n",
    "    datum = pd.to_datetime(\n",
    "        data_tidy[[\"rok\", \"měsíc\", \"den\"]].rename(\n",
    "            columns={\"rok\": \"year\", \"měsíc\": \"month\", \"den\": \"day\"}\n",
    "        ),\n",
    "        # použijeme tentokrát errors=coerce místo dropna předtím, abychom měli NA i v datum sloupci\n",
    "        # a mohli pak rozlišit kde byla chybějící hodnota a kde nesmyslné datum\n",
    "        errors=\"coerce\",\n",
    "    )\n",
    "    # přidej sloupec datum jako index a odstraň den, měsíc, rok a vrať setříděný výsledek\n",
    "    return (\n",
    "        data_tidy.assign(datum=datum)\n",
    "        .dropna(subset=[\"datum\"])\n",
    "        .set_index(\"datum\")\n",
    "        .drop(columns=[\"rok\", \"měsíc\", \"den\"])\n",
    "        .sort_index()\n",
    "        # fillna použijeme na všechny sloupce, ale až potom co jsme odstanili špatné datumy\n",
    "        # a seřadili jsme podle datumů\n",
    "        .fillna(method=\"ffill\") \n",
    "    )\n",
    "\n",
    "extracted_sheets_schibami = (\n",
    "    extract_and_clean_chmi_excel_sheet_schibami(excel_data_schibami, sheet_name)\n",
    "    for sheet_name in excel_data_schibami.sheet_names[1:]\n",
    ")\n",
    "data_schibami_tidy = pd.concat(extracted_sheets_schibami, axis=1)"
   ]
  },
  {
   "cell_type": "code",
   "execution_count": 89,
   "metadata": {},
   "outputs": [
    {
     "data": {
      "text/plain": [
       "DatetimeIndex(['1962-09-07', '1974-05-24', '2006-04-16', '2013-07-06'], dtype='datetime64[ns]', freq=None)"
      ]
     },
     "execution_count": 89,
     "metadata": {},
     "output_type": "execute_result"
    }
   ],
   "source": [
    "# tady byly původně #CHYBY MĚŘENÍ\n",
    "radky_schibami = pd.DatetimeIndex([\n",
    "    pd.Timestamp(\"1962-09-07\"),\n",
    "    pd.Timestamp(\"1974-05-24\"),\n",
    "    pd.Timestamp(\"2006-04-16\"),\n",
    "    pd.Timestamp(\"2013-07-06\"),\n",
    "])\n",
    "radky_schibami"
   ]
  },
  {
   "cell_type": "code",
   "execution_count": 79,
   "metadata": {},
   "outputs": [
    {
     "data": {
      "text/html": [
       "<div>\n",
       "<style scoped>\n",
       "    .dataframe tbody tr th:only-of-type {\n",
       "        vertical-align: middle;\n",
       "    }\n",
       "\n",
       "    .dataframe tbody tr th {\n",
       "        vertical-align: top;\n",
       "    }\n",
       "\n",
       "    .dataframe thead th {\n",
       "        text-align: right;\n",
       "    }\n",
       "</style>\n",
       "<table border=\"1\" class=\"dataframe\">\n",
       "  <thead>\n",
       "    <tr style=\"text-align: right;\">\n",
       "      <th></th>\n",
       "      <th>teplota průměrná</th>\n",
       "      <th>teplota maximální</th>\n",
       "      <th>teplota minimální</th>\n",
       "      <th>rychlost větru</th>\n",
       "      <th>tlak vzduchu</th>\n",
       "      <th>vlhkost vzduchu</th>\n",
       "      <th>úhrn srážek</th>\n",
       "      <th>celková výška sněhu</th>\n",
       "      <th>sluneční svit</th>\n",
       "    </tr>\n",
       "  </thead>\n",
       "  <tbody>\n",
       "    <tr>\n",
       "      <th>1962-09-07</th>\n",
       "      <td>NaN</td>\n",
       "      <td>20.2</td>\n",
       "      <td>14.3</td>\n",
       "      <td>8.0</td>\n",
       "      <td>961.9</td>\n",
       "      <td>69.0</td>\n",
       "      <td>0.1</td>\n",
       "      <td>0.0</td>\n",
       "      <td>3.1</td>\n",
       "    </tr>\n",
       "    <tr>\n",
       "      <th>1974-05-24</th>\n",
       "      <td>10.1</td>\n",
       "      <td>14.5</td>\n",
       "      <td>5.1</td>\n",
       "      <td>2.3</td>\n",
       "      <td>963.7</td>\n",
       "      <td>74.0</td>\n",
       "      <td>NaN</td>\n",
       "      <td>0.0</td>\n",
       "      <td>2.1</td>\n",
       "    </tr>\n",
       "    <tr>\n",
       "      <th>2006-04-16</th>\n",
       "      <td>NaN</td>\n",
       "      <td>16.2</td>\n",
       "      <td>8.1</td>\n",
       "      <td>7.3</td>\n",
       "      <td>965.9</td>\n",
       "      <td>84.0</td>\n",
       "      <td>1.4</td>\n",
       "      <td>0.0</td>\n",
       "      <td>1.8</td>\n",
       "    </tr>\n",
       "    <tr>\n",
       "      <th>2013-07-06</th>\n",
       "      <td>18.9</td>\n",
       "      <td>23.6</td>\n",
       "      <td>14.4</td>\n",
       "      <td>NaN</td>\n",
       "      <td>985.8</td>\n",
       "      <td>78.0</td>\n",
       "      <td>0.0</td>\n",
       "      <td>0.0</td>\n",
       "      <td>3.5</td>\n",
       "    </tr>\n",
       "  </tbody>\n",
       "</table>\n",
       "</div>"
      ],
      "text/plain": [
       "            teplota průměrná  teplota maximální  teplota minimální  \\\n",
       "1962-09-07               NaN               20.2               14.3   \n",
       "1974-05-24              10.1               14.5                5.1   \n",
       "2006-04-16               NaN               16.2                8.1   \n",
       "2013-07-06              18.9               23.6               14.4   \n",
       "\n",
       "            rychlost větru  tlak vzduchu  vlhkost vzduchu  úhrn srážek  \\\n",
       "1962-09-07             8.0         961.9             69.0          0.1   \n",
       "1974-05-24             2.3         963.7             74.0          NaN   \n",
       "2006-04-16             7.3         965.9             84.0          1.4   \n",
       "2013-07-06             NaN         985.8             78.0          0.0   \n",
       "\n",
       "            celková výška sněhu  sluneční svit  \n",
       "1962-09-07                  0.0            3.1  \n",
       "1974-05-24                  0.0            2.1  \n",
       "2006-04-16                  0.0            1.8  \n",
       "2013-07-06                  0.0            3.5  "
      ]
     },
     "execution_count": 79,
     "metadata": {},
     "output_type": "execute_result"
    }
   ],
   "source": [
    "data_schibami_tidy.loc[radky_schibami]"
   ]
  },
  {
   "cell_type": "code",
   "execution_count": 86,
   "metadata": {},
   "outputs": [
    {
     "data": {
      "text/html": [
       "<div>\n",
       "<style scoped>\n",
       "    .dataframe tbody tr th:only-of-type {\n",
       "        vertical-align: middle;\n",
       "    }\n",
       "\n",
       "    .dataframe tbody tr th {\n",
       "        vertical-align: top;\n",
       "    }\n",
       "\n",
       "    .dataframe thead th {\n",
       "        text-align: right;\n",
       "    }\n",
       "</style>\n",
       "<table border=\"1\" class=\"dataframe\">\n",
       "  <thead>\n",
       "    <tr style=\"text-align: right;\">\n",
       "      <th></th>\n",
       "      <th>teplota průměrná</th>\n",
       "      <th>teplota maximální</th>\n",
       "      <th>teplota minimální</th>\n",
       "      <th>rychlost větru</th>\n",
       "      <th>tlak vzduchu</th>\n",
       "      <th>vlhkost vzduchu</th>\n",
       "      <th>úhrn srážek</th>\n",
       "      <th>celková výška sněhu</th>\n",
       "      <th>sluneční svit</th>\n",
       "    </tr>\n",
       "  </thead>\n",
       "  <tbody>\n",
       "    <tr>\n",
       "      <th>1962-09-07</th>\n",
       "      <td>17.4</td>\n",
       "      <td>20.2</td>\n",
       "      <td>14.3</td>\n",
       "      <td>8.0</td>\n",
       "      <td>961.9</td>\n",
       "      <td>69.0</td>\n",
       "      <td>0.1</td>\n",
       "      <td>0.0</td>\n",
       "      <td>3.1</td>\n",
       "    </tr>\n",
       "    <tr>\n",
       "      <th>1974-05-24</th>\n",
       "      <td>10.1</td>\n",
       "      <td>14.5</td>\n",
       "      <td>5.1</td>\n",
       "      <td>2.3</td>\n",
       "      <td>963.7</td>\n",
       "      <td>74.0</td>\n",
       "      <td>0.4</td>\n",
       "      <td>0.0</td>\n",
       "      <td>2.1</td>\n",
       "    </tr>\n",
       "    <tr>\n",
       "      <th>2006-04-16</th>\n",
       "      <td>9.1</td>\n",
       "      <td>16.2</td>\n",
       "      <td>8.1</td>\n",
       "      <td>7.3</td>\n",
       "      <td>965.9</td>\n",
       "      <td>84.0</td>\n",
       "      <td>1.4</td>\n",
       "      <td>0.0</td>\n",
       "      <td>1.8</td>\n",
       "    </tr>\n",
       "    <tr>\n",
       "      <th>2013-07-06</th>\n",
       "      <td>18.9</td>\n",
       "      <td>23.6</td>\n",
       "      <td>14.4</td>\n",
       "      <td>3.3</td>\n",
       "      <td>985.8</td>\n",
       "      <td>78.0</td>\n",
       "      <td>0.0</td>\n",
       "      <td>0.0</td>\n",
       "      <td>3.5</td>\n",
       "    </tr>\n",
       "  </tbody>\n",
       "</table>\n",
       "</div>"
      ],
      "text/plain": [
       "            teplota průměrná  teplota maximální  teplota minimální  \\\n",
       "1962-09-07              17.4               20.2               14.3   \n",
       "1974-05-24              10.1               14.5                5.1   \n",
       "2006-04-16               9.1               16.2                8.1   \n",
       "2013-07-06              18.9               23.6               14.4   \n",
       "\n",
       "            rychlost větru  tlak vzduchu  vlhkost vzduchu  úhrn srážek  \\\n",
       "1962-09-07             8.0         961.9             69.0          0.1   \n",
       "1974-05-24             2.3         963.7             74.0          0.4   \n",
       "2006-04-16             7.3         965.9             84.0          1.4   \n",
       "2013-07-06             3.3         985.8             78.0          0.0   \n",
       "\n",
       "            celková výška sněhu  sluneční svit  \n",
       "1962-09-07                  0.0            3.1  \n",
       "1974-05-24                  0.0            2.1  \n",
       "2006-04-16                  0.0            1.8  \n",
       "2013-07-06                  0.0            3.5  "
      ]
     },
     "execution_count": 86,
     "metadata": {},
     "output_type": "execute_result"
    }
   ],
   "source": [
    "data_schibami_tidy.loc[radky_schibami]"
   ]
  },
  {
   "cell_type": "code",
   "execution_count": 88,
   "metadata": {},
   "outputs": [
    {
     "data": {
      "text/html": [
       "<div>\n",
       "<style scoped>\n",
       "    .dataframe tbody tr th:only-of-type {\n",
       "        vertical-align: middle;\n",
       "    }\n",
       "\n",
       "    .dataframe tbody tr th {\n",
       "        vertical-align: top;\n",
       "    }\n",
       "\n",
       "    .dataframe thead th {\n",
       "        text-align: right;\n",
       "    }\n",
       "</style>\n",
       "<table border=\"1\" class=\"dataframe\">\n",
       "  <thead>\n",
       "    <tr style=\"text-align: right;\">\n",
       "      <th></th>\n",
       "      <th>teplota průměrná</th>\n",
       "      <th>teplota maximální</th>\n",
       "      <th>teplota minimální</th>\n",
       "      <th>rychlost větru</th>\n",
       "      <th>tlak vzduchu</th>\n",
       "      <th>vlhkost vzduchu</th>\n",
       "      <th>úhrn srážek</th>\n",
       "      <th>celková výška sněhu</th>\n",
       "      <th>sluneční svit</th>\n",
       "    </tr>\n",
       "  </thead>\n",
       "  <tbody>\n",
       "    <tr>\n",
       "      <th>1962-09-06</th>\n",
       "      <td>17.4</td>\n",
       "      <td>19.2</td>\n",
       "      <td>12.3</td>\n",
       "      <td>7.3</td>\n",
       "      <td>963.8</td>\n",
       "      <td>82.0</td>\n",
       "      <td>0.2</td>\n",
       "      <td>0.0</td>\n",
       "      <td>0.0</td>\n",
       "    </tr>\n",
       "    <tr>\n",
       "      <th>1974-05-23</th>\n",
       "      <td>8.9</td>\n",
       "      <td>13.4</td>\n",
       "      <td>6.6</td>\n",
       "      <td>5.7</td>\n",
       "      <td>961.9</td>\n",
       "      <td>72.0</td>\n",
       "      <td>0.4</td>\n",
       "      <td>0.0</td>\n",
       "      <td>4.9</td>\n",
       "    </tr>\n",
       "    <tr>\n",
       "      <th>2006-04-15</th>\n",
       "      <td>9.1</td>\n",
       "      <td>13.9</td>\n",
       "      <td>1.3</td>\n",
       "      <td>3.3</td>\n",
       "      <td>972.4</td>\n",
       "      <td>71.0</td>\n",
       "      <td>0.6</td>\n",
       "      <td>0.0</td>\n",
       "      <td>9.1</td>\n",
       "    </tr>\n",
       "    <tr>\n",
       "      <th>2013-07-05</th>\n",
       "      <td>18.1</td>\n",
       "      <td>23.4</td>\n",
       "      <td>14.7</td>\n",
       "      <td>3.3</td>\n",
       "      <td>984.0</td>\n",
       "      <td>83.0</td>\n",
       "      <td>0.0</td>\n",
       "      <td>0.0</td>\n",
       "      <td>1.8</td>\n",
       "    </tr>\n",
       "  </tbody>\n",
       "</table>\n",
       "</div>"
      ],
      "text/plain": [
       "            teplota průměrná  teplota maximální  teplota minimální  \\\n",
       "1962-09-06              17.4               19.2               12.3   \n",
       "1974-05-23               8.9               13.4                6.6   \n",
       "2006-04-15               9.1               13.9                1.3   \n",
       "2013-07-05              18.1               23.4               14.7   \n",
       "\n",
       "            rychlost větru  tlak vzduchu  vlhkost vzduchu  úhrn srážek  \\\n",
       "1962-09-06             7.3         963.8             82.0          0.2   \n",
       "1974-05-23             5.7         961.9             72.0          0.4   \n",
       "2006-04-15             3.3         972.4             71.0          0.6   \n",
       "2013-07-05             3.3         984.0             83.0          0.0   \n",
       "\n",
       "            celková výška sněhu  sluneční svit  \n",
       "1962-09-06                  0.0            0.0  \n",
       "1974-05-23                  0.0            4.9  \n",
       "2006-04-15                  0.0            9.1  \n",
       "2013-07-05                  0.0            1.8  "
      ]
     },
     "execution_count": 88,
     "metadata": {},
     "output_type": "execute_result"
    }
   ],
   "source": [
    "data_schibami_tidy.loc[radky_schibami - pd.Timedelta(\"1D\")]"
   ]
  },
  {
   "cell_type": "markdown",
   "metadata": {},
   "source": [
    "5. Jak často přijíždí Svatý Martin na bílém koni? Jaké je procento svátků Sv. Martina (11. 11.), kdy byla celková výška sněhu větší než 0?"
   ]
  },
  {
   "cell_type": "code",
   "execution_count": 184,
   "metadata": {},
   "outputs": [
    {
     "data": {
      "text/plain": [
       "False    0.931034\n",
       "True     0.068966\n",
       "Name: celková výška sněhu, dtype: float64"
      ]
     },
     "execution_count": 184,
     "metadata": {},
     "output_type": "execute_result"
    }
   ],
   "source": [
    "(\n",
    "    ruzyne_tidy.loc[\n",
    "        (ruzyne_tidy.index.month == 11) & (ruzyne_tidy.index.day == 11),\n",
    "        \"celková výška sněhu\",\n",
    "    ]\n",
    "    > 0\n",
    ").value_counts(normalize=True)"
   ]
  },
  {
   "cell_type": "markdown",
   "metadata": {},
   "source": [
    "6. Který z ledových mužů je nejmrazivější? Pankrác (12. 5.), Servác (13. 5.) nebo Bonifác (14. 5.)? Zjisti to porovnáním procent těchto dní s minimální teplotou < 0. Pokud budou procenta vyrovnaná, vyhraje den s nižší průměrnou teplotou."
   ]
  },
  {
   "cell_type": "code",
   "execution_count": 205,
   "metadata": {},
   "outputs": [
    {
     "data": {
      "text/plain": [
       "'Bonifác'"
      ]
     },
     "execution_count": 205,
     "metadata": {},
     "output_type": "execute_result"
    }
   ],
   "source": [
    "ledovi_muzi_data = {\n",
    "    \"Pankrác\": ruzyne_tidy.loc[\n",
    "        (ruzyne_tidy.index.month == 5) & (ruzyne_tidy.index.day == 12)\n",
    "    ],\n",
    "    \"Servác\": ruzyne_tidy.loc[\n",
    "        (ruzyne_tidy.index.month == 5) & (ruzyne_tidy.index.day == 13)\n",
    "    ],\n",
    "    \"Bonifác\": ruzyne_tidy.loc[\n",
    "        (ruzyne_tidy.index.month == 5) & (ruzyne_tidy.index.day == 14)\n",
    "    ],\n",
    "}\n",
    "\n",
    "ledovi_muzi = {}\n",
    "for jmeno in ledovi_muzi_data:\n",
    "    ledovi_muzi[jmeno] = (\n",
    "        ledovi_muzi_data[jmeno][\"teplota minimální\"] < 0\n",
    "    ).sum() / ledovi_muzi_data[jmeno].shape[0]\n",
    "    \n",
    "pd.Series(ledovi_muzi).idxmax()"
   ]
  },
  {
   "cell_type": "code",
   "execution_count": null,
   "metadata": {},
   "outputs": [],
   "source": []
  },
  {
   "cell_type": "code",
   "execution_count": null,
   "metadata": {},
   "outputs": [],
   "source": []
  }
 ],
 "metadata": {
  "kernelspec": {
   "display_name": "Python 3",
   "language": "python",
   "name": "python3"
  },
  "language_info": {
   "codemirror_mode": {
    "name": "ipython",
    "version": 3
   },
   "file_extension": ".py",
   "mimetype": "text/x-python",
   "name": "python",
   "nbconvert_exporter": "python",
   "pygments_lexer": "ipython3",
   "version": "3.8.2"
  }
 },
 "nbformat": 4,
 "nbformat_minor": 4
}
